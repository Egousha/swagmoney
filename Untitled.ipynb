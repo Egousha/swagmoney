{
 "cells": [
  {
   "cell_type": "code",
   "execution_count": 2,
   "id": "60ebbf59",
   "metadata": {},
   "outputs": [
    {
     "name": "stdout",
     "output_type": "stream",
     "text": [
      "Hello World\n"
     ]
    }
   ],
   "source": [
    "print (\"Hello World\")"
   ]
  },
  {
   "cell_type": "code",
   "execution_count": 3,
   "id": "01c50cd3",
   "metadata": {},
   "outputs": [
    {
     "data": {
      "text/plain": [
       "13"
      ]
     },
     "execution_count": 3,
     "metadata": {},
     "output_type": "execute_result"
    }
   ],
   "source": [
    "3+10"
   ]
  },
  {
   "cell_type": "code",
   "execution_count": 4,
   "id": "28f41387",
   "metadata": {},
   "outputs": [
    {
     "name": "stdout",
     "output_type": "stream",
     "text": [
      "7\n"
     ]
    }
   ],
   "source": [
    "a=3\n",
    "b=4\n",
    "print(a+b)"
   ]
  },
  {
   "cell_type": "code",
   "execution_count": 5,
   "id": "5b8934e5",
   "metadata": {},
   "outputs": [
    {
     "name": "stdout",
     "output_type": "stream",
     "text": [
      "Evan Gousha\n"
     ]
    }
   ],
   "source": [
    "print(\"Evan Gousha\")"
   ]
  },
  {
   "cell_type": "markdown",
   "id": "05d2d60c",
   "metadata": {},
   "source": [
    "# Heading 1\n",
    "## Heading 2\n",
    "### Heading 3\n",
    "#### Heading 4"
   ]
  },
  {
   "cell_type": "markdown",
   "id": "d51050b1",
   "metadata": {},
   "source": [
    ">Swag Money"
   ]
  },
  {
   "attachments": {},
   "cell_type": "markdown",
   "id": "c7752f55",
   "metadata": {},
   "source": [
    "* This is a bullet list\n",
    "1. ordered lists\n",
    "2. using numbers"
   ]
  },
  {
   "cell_type": "markdown",
   "id": "f4574f06",
   "metadata": {},
   "source": [
    "1.Evan"
   ]
  },
  {
   "cell_type": "markdown",
   "id": "7dd1ce8a",
   "metadata": {},
   "source": [
    "2.Gousha"
   ]
  },
  {
   "cell_type": "markdown",
   "id": "eec2729e",
   "metadata": {},
   "source": [
    "**AHHHHHHHHHH**"
   ]
  },
  {
   "cell_type": "markdown",
   "id": "a74e7cbd",
   "metadata": {},
   "source": [
    "*So Bold*"
   ]
  },
  {
   "cell_type": "markdown",
   "id": "d629d952",
   "metadata": {},
   "source": [
    "`Here is My name`\n"
   ]
  },
  {
   "cell_type": "markdown",
   "id": "5a17b12f",
   "metadata": {},
   "source": [
    "`Github` can be found at \n",
    "<a href=\"https://github.com/login?\">this link</a>"
   ]
  },
  {
   "cell_type": "markdown",
   "id": "27b7dd56",
   "metadata": {},
   "source": [
    "![Python Logo](https://www.python.org/static/community_logos/python-logo-master-v3-TM.png)\n"
   ]
  },
  {
   "cell_type": "markdown",
   "id": "2a2e087a",
   "metadata": {},
   "source": [
    "![Tame Impala](https://www.google.com/imgres?imgurl=https%3A%2F%2Fimages-na.ssl-images-amazon.com%2Fimages%2FI%2FA1LVEJikmZL._SL1500_.jpg&imgrefurl=https%3A%2F%2Fwww.amazon.com%2FCurrents-Tame-Impala%2Fdp%2FB00XBWBWBK&tbnid=Hd2DlC0cYifQcM&vet=12ahUKEwjrmsTwssryAhUFgK0KHQ_FCBoQMygAegUIARDAAQ..i&docid=1GOjA5QvN-TVqM&w=1500&h=1500&q=tame%20impala%20album&client=avast-a-1&ved=2ahUKEwjrmsTwssryAhUFgK0KHQ_FCBoQMygAegUIARDAAQ)"
   ]
  },
  {
   "cell_type": "code",
   "execution_count": null,
   "id": "83e9c1df",
   "metadata": {},
   "outputs": [],
   "source": []
  }
 ],
 "metadata": {
  "kernelspec": {
   "display_name": "Python 3",
   "language": "python",
   "name": "python3"
  },
  "language_info": {
   "codemirror_mode": {
    "name": "ipython",
    "version": 3
   },
   "file_extension": ".py",
   "mimetype": "text/x-python",
   "name": "python",
   "nbconvert_exporter": "python",
   "pygments_lexer": "ipython3",
   "version": "3.8.8"
  }
 },
 "nbformat": 4,
 "nbformat_minor": 5
}
